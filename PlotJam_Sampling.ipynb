{
  "nbformat": 4,
  "nbformat_minor": 0,
  "metadata": {
    "colab": {
      "name": "PlotJam Sampling",
      "provenance": [],
      "collapsed_sections": [],
      "toc_visible": true,
      "machine_shape": "hm",
      "include_colab_link": true
    },
    "kernelspec": {
      "name": "python3",
      "display_name": "Python 3"
    },
    "accelerator": "GPU"
  },
  "cells": [
    {
      "cell_type": "markdown",
      "metadata": {
        "id": "view-in-github",
        "colab_type": "text"
      },
      "source": [
        "<a href=\"https://colab.research.google.com/github/robgon-art/PlotJam/blob/master/PlotJam_Sampling.ipynb\" target=\"_parent\"><img src=\"https://colab.research.google.com/assets/colab-badge.svg\" alt=\"Open In Colab\"/></a>"
      ]
    },
    {
      "cell_type": "markdown",
      "metadata": {
        "id": "H7LoMj4GA4n_",
        "colab_type": "text"
      },
      "source": [
        "# **Got Writer's Block? It's PlotJam to the Rescue!**\n",
        "Using GPT-2 to create plot summaries of books that don't exist ... yet</br></br>\n",
        "![alt text](https://raw.githubusercontent.com/robgon-art/plot-jam/master/images/the_story_medium.jpg)</br>\n",
        "Photo illustration based on a photo by alexkerhead CC By 2.0"
      ]
    },
    {
      "cell_type": "markdown",
      "metadata": {
        "id": "vOnPMwgdL3cB",
        "colab_type": "text"
      },
      "source": [
        "# Initialize the PlotJam System\n",
        "Click the **Run cell** button below to set things up.</br>\n",
        "It takes about 3 minutes to load he dataset files and configure the GPT-2 model."
      ]
    },
    {
      "cell_type": "code",
      "metadata": {
        "id": "obcf4rj_LXJr",
        "colab_type": "code",
        "cellView": "form",
        "colab": {}
      },
      "source": [
        "#@title\n",
        "# Download book summaries, movie and TV show titles, and the pre-trained model\n",
        "!wget -O booksummaries.tar.gz http://www.cs.cmu.edu/~dbamman/data/booksummaries.tar.gz\n",
        "!tar -xf booksummaries.tar.gz\n",
        "!wget -O title.basics.tsv.gz https://datasets.imdbws.com/title.basics.tsv.gz\n",
        "!gzip -d title.basics.tsv.gz\n",
        "!wget -O books.csv.zip --no-check-certificate \"https://onedrive.live.com/download?cid=61FC7243E093B36A&resid=61FC7243E093B36A%211282&authkey=AIpT1xoDqAqGF1U\"\n",
        "!unzip books.csv.zip\n",
        "!wget -O plot_jam.zip --no-check-certificate \"https://onedrive.live.com/download?cid=61FC7243E093B36A&resid=61FC7243E093B36A%211281&authkey=ADCNCznRl5uAAkc\"\n",
        "!unzip plot_jam.zip\n",
        "\n",
        "# Initialize the model\n",
        "%tensorflow_version 1.x\n",
        "!pip install -q gpt-2-simple\n",
        "import gpt_2_simple as gpt2\n",
        "sess = gpt2.start_tf_sess()\n",
        "gpt2.load_gpt2(sess)\n",
        "\n",
        "# Function to remove articles at the head of titles\n",
        "def remove_leading_article(title):\n",
        "  if title.startswith(\"The \"):\n",
        "    title = title[4:]\n",
        "  if title.startswith(\"A \"):\n",
        "    title = title[2:]\n",
        "  return title\n",
        "\n",
        "# Get the titles of books, movies, and TV shows\n",
        "import csv\n",
        "titles = {}\n",
        "with open('booksummaries/booksummaries.txt', newline='', encoding='utf-8') as f:\n",
        "  reader = csv.reader(f, delimiter='\\t')\n",
        "  for row in reader:\n",
        "    title = row[2]\n",
        "    title = remove_leading_article(title)\n",
        "    titles[title.lower()] = True\n",
        "with open('title.basics.tsv') as f:\n",
        "  reader = csv.reader(f, delimiter='\\t')\n",
        "  for row in reader:\n",
        "      title = row[3]\n",
        "      title = remove_leading_article(title)\n",
        "      titles[title.lower()] = True\n",
        "with open('books.csv') as f:\n",
        "  reader = csv.reader(f)\n",
        "  for row in reader:\n",
        "      title = row[1]\n",
        "      title = title.split('(')[0].strip() # Remove everything after a left paren\n",
        "      title = remove_leading_article(title)\n",
        "      titles[title.lower()] = True\n",
        "\n",
        "# Function to check if the text contain a repeated phrase\n",
        "def repeats(s, num):\n",
        "  substrings = {}\n",
        "  parts = s.split(' ')\n",
        "  does_repeat = False\n",
        "  for i in range(len(parts)-num):\n",
        "    substring = parts[i]\n",
        "    for j in range(1, num):\n",
        "      substring += ' ' + parts[i+j]\n",
        "    if substring in substrings:\n",
        "      return True\n",
        "    else:\n",
        "      substrings[substring] = True\n",
        "  return False"
      ],
      "execution_count": null,
      "outputs": []
    },
    {
      "cell_type": "markdown",
      "metadata": {
        "id": "tX08FC-FMf_G",
        "colab_type": "text"
      },
      "source": [
        "# Create Some New Stories\n",
        "Select the **genre** then click **Run cell** button to generate new stories with titles and plot summaries. </br>You can run this multiple times with the same or different genre selections."
      ]
    },
    {
      "cell_type": "code",
      "metadata": {
        "id": "5H-K0qbxRfOc",
        "colab_type": "code",
        "cellView": "form",
        "colab": {}
      },
      "source": [
        "#@title\n",
        "import textwrap\n",
        "import re\n",
        "\n",
        "# Use the inputs to setup some parameters\n",
        "genre = \"All Genres\" #@param [\"All Genres\", \"Novel\", \"Science Fiction\", \"Fiction\", \"Children's literature\", \"Fantasy\", \"Young adult literature\", \"Historical novel\", \"Speculative fiction\", \"Crime Fiction\", \"Non-fiction\", \"Mystery\", \"Thriller\"]\n",
        "the_prefix = 'GENRE:'\n",
        "if genre != \"All Genres\":\n",
        "  the_prefix += \" \" + genre + \" TITLE:\"\n",
        "\n",
        "# Get some new plots\n",
        "plot_ideas = gpt2.generate(sess, length=150, temperature=0.8,\n",
        "  prefix=the_prefix, nsamples=20, batch_size=20, return_as_list=True,\n",
        "  include_prefix=True, truncate=\"\\n\")\n",
        "\n",
        "keepers = []\n",
        "count = 0\n",
        "\n",
        "# Show the plots, filtering out ones with repeated word or reused titles\n",
        "if len(plot_ideas) == 0:\n",
        "  print(\"No results, try again.\")\n",
        "else:\n",
        "  for plot in plot_ideas:\n",
        "    title_search = re.search('TITLE: (.*) PLOT:', plot)\n",
        "    if not repeats(plot, 5) and title_search != None:\n",
        "      old_title = title = title_search.group(1)\n",
        "      title = remove_leading_article(title)\n",
        "      if title.lower() not in titles:\n",
        "        keepers.append(plot)\n",
        "        count += 1\n",
        "        print(textwrap.fill(\"NUMBER: \" + str(count) + \" \" + plot, width=180),\"\\n\")\n",
        "        if count == 10:\n",
        "          break"
      ],
      "execution_count": null,
      "outputs": []
    },
    {
      "cell_type": "markdown",
      "metadata": {
        "id": "p3wlvUunmybk",
        "colab_type": "text"
      },
      "source": [
        "# Create Variations of a Selected Story\n",
        "Choose one of the stories by its number and click the **Run cell** button to create and display five variations."
      ]
    },
    {
      "cell_type": "code",
      "metadata": {
        "id": "-3Q1JS8fhNbs",
        "colab_type": "code",
        "cellView": "form",
        "colab": {}
      },
      "source": [
        "selection = \"NUMBER: 1\"#@param [\"NUMBER: 1\", \"NUMBER: 2\", \"NUMBER: 3\", \"NUMBER: 4\", \"NUMBER: 5\", \"NUMBER: 6\", \"NUMBER: 7\", \"NUMBER: 8\", \"NUMBER: 9\", \"NUMBER: 10\"]\n",
        "selection_number = int(selection.split(' ')[1])-1\n",
        "if selection_number >= len(keepers):\n",
        "  print(\"Please choose a selection number between 1 and \" + str(len(keepers)))\n",
        "else:\n",
        "  # selected_prefix = \"GENRE: \" + re.search('GENRE: (.*) PLOT:', \n",
        "  #   keepers[selection_number])[1] + \" PLOT:\"\n",
        "  plot_words = keepers[selection_number].split(' ')\n",
        "  selected_prefix = \"\"\n",
        "  for word in plot_words[:20]:\n",
        "    selected_prefix += word + ' '\n",
        "  # Get some refined plots\n",
        "  refined_ideas = gpt2.generate(sess, length=150, temperature=0.8,\n",
        "    prefix=selected_prefix.strip(), nsamples=5, batch_size=5, return_as_list=True,\n",
        "    include_prefix=True, truncate=\"\\n\")\n",
        "\n",
        "  # Print out the results\n",
        "  for plot in refined_ideas:\n",
        "    print(textwrap.fill(plot, width=180),\"\\n\")"
      ],
      "execution_count": null,
      "outputs": []
    }
  ]
}